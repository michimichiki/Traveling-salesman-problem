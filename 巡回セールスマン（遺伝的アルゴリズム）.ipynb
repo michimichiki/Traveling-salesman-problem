{
 "cells": [
  {
   "cell_type": "markdown",
   "id": "c954ab42",
   "metadata": {},
   "source": [
    "# アルゴリズムで利用する関数作成"
   ]
  },
  {
   "cell_type": "code",
   "execution_count": 1,
   "id": "5bd6b755",
   "metadata": {},
   "outputs": [],
   "source": [
    "# 遺伝子の作成\n",
    "def generate_gene(x, y):\n",
    "    gene = []\n",
    "    for i in range(len(x)):\n",
    "        gene.append((x.values[i], y.values[i]))\n",
    "    return gene"
   ]
  },
  {
   "cell_type": "code",
   "execution_count": 2,
   "id": "5b533601",
   "metadata": {},
   "outputs": [],
   "source": [
    "# 評価関数の作成\n",
    "def reputate(genes_sample):\n",
    "    f = []\n",
    "    for i in range(m):\n",
    "        x = []\n",
    "        y = []\n",
    "        d = []\n",
    "        for j in range(n):\n",
    "            x.append(genes_sample[i][j][0])\n",
    "            y.append(genes_sample[i][j][1])\n",
    "        for k in range(n-1):\n",
    "            d.append(np.sqrt((x[k] - x[k+1]) ** 2 + (y[k] - y[k+1]) ** 2))\n",
    "        f.append(np.array(d).sum())\n",
    "    return f"
   ]
  },
  {
   "cell_type": "code",
   "execution_count": 3,
   "id": "1b254022",
   "metadata": {},
   "outputs": [],
   "source": [
    "# 子の作成\n",
    "def generate_child(parent1_ori, parent2_ori):\n",
    "    while True:\n",
    "        generated_gene = parent1_ori.copy()\n",
    "        parent1 = parent1_ori.copy()\n",
    "        parent2 = parent2_ori.copy()\n",
    "        list1 = []\n",
    "        list2 = list(range(0, n))\n",
    "        i = 0\n",
    "        while True:\n",
    "            a = randint(0, n-1)\n",
    "            if not any(np.in1d(list1, a)):\n",
    "                list1.append(a)\n",
    "                list2.remove(list1[-1])\n",
    "                i += 1\n",
    "            if i == 3:\n",
    "                break\n",
    "\n",
    "        for j in list1:\n",
    "            generated_gene[j] = parent1[j]\n",
    "            parent2.remove(parent1[j])\n",
    "        for (j, k) in zip(list2, range(0, len(parent2))):\n",
    "            generated_gene[j] = parent2[k]\n",
    "\n",
    "        if (generated_gene != parent1) and (generated_gene != parent2):\n",
    "            break\n",
    "\n",
    "    return generated_gene"
   ]
  },
  {
   "cell_type": "code",
   "execution_count": 4,
   "id": "bf578961",
   "metadata": {},
   "outputs": [],
   "source": [
    "# 突然変異（どこか2つの順番を入れ替える）\n",
    "def mutation(gene):\n",
    "    num1, num2 = randint(0, n-1), randint(0, n-1)\n",
    "    tmp = gene[num1]\n",
    "    gene[num1] = gene[num2]\n",
    "    gene[num2] = tmp\n",
    "    return gene"
   ]
  },
  {
   "cell_type": "markdown",
   "id": "18bd967e",
   "metadata": {},
   "source": [
    "# プログラム"
   ]
  },
  {
   "cell_type": "code",
   "execution_count": 5,
   "id": "f5dd2981",
   "metadata": {},
   "outputs": [],
   "source": [
    "%matplotlib inline\n",
    "import numpy as np\n",
    "import pandas as pd\n",
    "import matplotlib.pyplot as plt\n",
    "from random import shuffle, randint, sample"
   ]
  },
  {
   "cell_type": "code",
   "execution_count": 6,
   "id": "dbc3984b",
   "metadata": {
    "scrolled": true
   },
   "outputs": [
    {
     "data": {
      "image/png": "[encoded data removed]",
      "text/plain": [
       "<Figure size 432x288 with 2 Axes>"
      ]
     },
     "metadata": {
      "needs_background": "light"
     },
     "output_type": "display_data"
    }
   ],
   "source": [
    "n = 10   # 都市数\n",
    "m = 10   # 個体数\n",
    "loop = 500   # ループ回数\n",
    "generation = 1   # 世代\n",
    "reputation_hist = []   # 評価値の保存\n",
    "\n",
    "# データの読み込み\n",
    "japan = pd.read_csv('jp.csv')\n",
    "cities = japan.sample(n)\n",
    "cities = cities[['city', 'lat', 'lng']]\n",
    "cities.head()\n",
    "\n",
    "x = cities['lng']\n",
    "y = cities['lat']\n",
    "plt.subplot(2, 1, 1)\n",
    "plt.scatter(x, y)\n",
    "plt.plot(x, y)\n",
    "\n",
    "# 経路\n",
    "gene_0 = generate_gene(x, y)\n",
    "\n",
    "# ランダムな経路10通りの遺伝子を生成\n",
    "genes = []\n",
    "for _ in range(10):\n",
    "    gene_0 = sample(gene_0, n)\n",
    "    genes.append(gene_0)\n",
    "\n",
    "for _ in range(0, loop):\n",
    "    # 評価\n",
    "    reputated_genes = reputate(genes)\n",
    "\n",
    "    # データ準備\n",
    "    d = {'gene1': [genes[0], reputated_genes[0]],\n",
    "         'gene2': [genes[1], reputated_genes[1]],\n",
    "        'gene3': [genes[2], reputated_genes[2]],\n",
    "        'gene4': [genes[3], reputated_genes[3]],\n",
    "        'gene5': [genes[4], reputated_genes[4]],\n",
    "        'gene6': [genes[5], reputated_genes[5]],\n",
    "        'gene7': [genes[6], reputated_genes[6]],\n",
    "        'gene8': [genes[7], reputated_genes[7]],\n",
    "        'gene9': [genes[8], reputated_genes[8]],\n",
    "        'gene10': [genes[9], reputated_genes[9]]}\n",
    "\n",
    "    df = pd.DataFrame(data=d, index=['gene', 'reputation'])\n",
    "    df = df.T\n",
    "    df = df.sort_values('reputation')\n",
    "    \n",
    "    # 評価値のリスト\n",
    "    reputation_hist.append(df['reputation'][0])\n",
    "    \n",
    "    # 世代数のカウント\n",
    "#     print(f'{generation}世代')\n",
    "#     print(f'経路長：{reputation_hist[-1]}')\n",
    "#     generation += 1\n",
    "\n",
    "    # 評価値上位2つを選択し、新たな遺伝子に加える。ただし同じ配列のものは選ばない。\n",
    "    genes = []\n",
    "    genes.append(df['gene'][0])\n",
    "    for i in range(len(df['gene'])):\n",
    "        genes.append(df['gene'][i])\n",
    "        if genes[0] == df['gene'][i]:\n",
    "              genes.remove(genes[-1])\n",
    "        else:\n",
    "            break\n",
    "\n",
    "    # 子を6つ作成し、新たな遺伝子に加える\n",
    "    for _ in range(0, 3):\n",
    "        genes.append(generate_child(genes[0], genes[1]))\n",
    "        genes.append(generate_child(genes[1], genes[0]))\n",
    "      \n",
    "    # 突然変異\n",
    "    genes.append(mutation(genes[0]))\n",
    "    genes.append(mutation(genes[0]))\n",
    "    \n",
    "best_gene = df['gene'][0]\n",
    "best_x = []\n",
    "best_y = []\n",
    "for i in range(0, len(best_gene)):\n",
    "    best_x.append(best_gene[i][0])\n",
    "    best_y.append(best_gene[i][1])\n",
    "plt.subplot(2, 1, 2)\n",
    "plt.scatter(best_x, best_y)\n",
    "plt.plot(best_x, best_y)\n",
    "plt.show()"
   ]
  },
  {
   "cell_type": "code",
   "execution_count": 7,
   "id": "82573289",
   "metadata": {
    "scrolled": true
   },
   "outputs": [
    {
     "data": {
      "text/plain": [
       "[<matplotlib.lines.Line2D at 0x7f9773245850>]"
      ]
     },
     "execution_count": 7,
     "metadata": {},
     "output_type": "execute_result"
    },
    {
     "data": {
      "image/png": "[encoded data removed]",
      "text/plain": [
       "<Figure size 432x288 with 1 Axes>"
      ]
     },
     "metadata": {
      "needs_background": "light"
     },
     "output_type": "display_data"
    }
   ],
   "source": [
    "# 評価関数の推移\n",
    "plt.plot(np.linspace(0, loop, loop), reputation_hist)"
   ]
  },
  {
   "cell_type": "code",
   "execution_count": null,
   "id": "215b5a83",
   "metadata": {},
   "outputs": [],
   "source": []
  }
 ],
 "metadata": {
  "kernelspec": {
   "display_name": "Python 3 (ipykernel)",
   "language": "python",
   "name": "python3"
  },
  "language_info": {
   "codemirror_mode": {
    "name": "ipython",
    "version": 3
   },
   "file_extension": ".py",
   "mimetype": "text/x-python",
   "name": "python",
   "nbconvert_exporter": "python",
   "pygments_lexer": "ipython3",
   "version": "3.7.6"
  }
 },
 "nbformat": 4,
 "nbformat_minor": 5
}
